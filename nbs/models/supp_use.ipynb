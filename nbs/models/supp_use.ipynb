{
 "cells": [
  {
   "cell_type": "markdown",
   "metadata": {},
   "source": [
    "# use\n",
    "> Universal Sentence Encoder\n",
    "\n",
    "- skip_exec: true"
   ]
  },
  {
   "cell_type": "code",
   "execution_count": null,
   "metadata": {},
   "outputs": [],
   "source": [
    "# download the USE sentence encoder from tensorflow hub\n",
    "# from the paper  (Cer et al.) Universal Sentence Encoder. arXiv:1803.11175, 2018.\n",
    "import tensorflow_hub as hub\n",
    "embed = hub.load(\"https://tfhub.dev/google/universal-sentence-encoder/4\")"
   ]
  },
  {
   "cell_type": "code",
   "execution_count": null,
   "metadata": {},
   "outputs": [],
   "source": [
    "# import necessary libraries\n",
    "import numpy as np\n",
    "\n",
    "# function to get sentences from the cleaned txt files\n",
    "def get_sentenes(fname):\n",
    "    with open(fname, 'r') as f:\n",
    "        all = f.read()\n",
    "        f.close()\n",
    "    name = fname[:-4]\n",
    "    all_sentences = [line for line in all.split('\\n') if len(line) > 0]\n",
    "    print('{} contains {} sentences'.format(name, len(all_sentences)))\n",
    "    return all_sentences\n",
    "\n",
    "# function to generate embeddings using the USE\n",
    "# function saves the generated embeddings as a .npy array for future use\n",
    "def use_embed(fname):\n",
    "    sent = get_sentenes(fname)\n",
    "    final = np.asarray(embed(sent))\n",
    "    np.save(fname[:-4]+'_use.npy',final)"
   ]
  },
  {
   "cell_type": "code",
   "execution_count": null,
   "metadata": {},
   "outputs": [
    {
     "name": "stdout",
     "output_type": "stream",
     "text": [
      "a christmas carol_cleaned contains 1942 sentences\n",
      "heart of darkness_cleaned contains 2430 sentences\n",
      "metamorphosis_cleaned contains 795 sentences\n",
      "the prophet_cleaned contains 647 sentences\n"
     ]
    }
   ],
   "source": [
    "# generate embeddings for all the datasets, make sure the .txt files are in the correct directory\n",
    "\n",
    "fname = 'a christmas carol_cleaned.txt'\n",
    "use_embed(fname)\n",
    "\n",
    "fname = 'heart of darkness_cleaned.txt'\n",
    "use_embed(fname)\n",
    "\n",
    "fname = 'metamorphosis_cleaned.txt'\n",
    "use_embed(fname)\n",
    "\n",
    "fname = 'the prophet_cleaned.txt'\n",
    "use_embed(fname)"
   ]
  }
 ],
 "metadata": {
  "kernelspec": {
   "display_name": "Python 3 (ipykernel)",
   "language": "python",
   "name": "python3"
  }
 },
 "nbformat": 4,
 "nbformat_minor": 1
}
