{
 "cells": [
  {
   "cell_type": "markdown",
   "id": "b7d5eb21",
   "metadata": {},
   "source": [
    "# DeCLUTR\n",
    "\n",
    "- skip_exec: true"
   ]
  },
  {
   "cell_type": "code",
   "execution_count": null,
   "id": "a208a001",
   "metadata": {},
   "outputs": [],
   "source": [
    "# https://github.com/JohnGiorgi/DeCLUTR\n",
    "\n",
    "!pip install git+https://github.com/JohnGiorgi/DeCLUTR.git --quiet"
   ]
  },
  {
   "cell_type": "markdown",
   "id": "23228b85",
   "metadata": {},
   "source": [
    "Finally, let's check to see if we have a GPU available, which we can use to dramatically speed up the embedding of text"
   ]
  },
  {
   "cell_type": "code",
   "execution_count": null,
   "id": "7eec648b",
   "metadata": {},
   "outputs": [],
   "source": [
    "import torch\n",
    "\n",
    "if torch.cuda.is_available():\n",
    "    device = torch.device(\"cuda\")\n",
    "    cuda_device = torch.cuda.current_device()\n",
    "else:\n",
    "    device = torch.device(\"cpu\")\n",
    "    cuda_device = -1"
   ]
  },
  {
   "cell_type": "markdown",
   "id": "8e2deba0",
   "metadata": {},
   "source": [
    "## 1️⃣ As a library\n",
    "\n",
    "To use the model as a library, import `Encoder` and pass it some text (it accepts both strings and lists of strings)"
   ]
  },
  {
   "cell_type": "code",
   "execution_count": null,
   "id": "4928c375",
   "metadata": {},
   "outputs": [],
   "source": [
    "from declutr import Encoder\n",
    "import numpy as np\n",
    "# This can be a path on disk to a model you have trained yourself OR\n",
    "# the name of one of our pretrained models.\n",
    "pretrained_model_or_path = \"declutr-small\"\n",
    "\n",
    "\n",
    "encoder = Encoder(pretrained_model_or_path, cuda_device=cuda_device)\n",
    "\n",
    "\n",
    "# downloading the model for declutr bas\n",
    "encoder_base = Encoder(\"declutr-base\", cuda_device = cuda_device)"
   ]
  },
  {
   "cell_type": "code",
   "execution_count": null,
   "id": "f9f4af17",
   "metadata": {},
   "outputs": [],
   "source": [
    "def get_sentenes(fname):\n",
    "    with open(fname, 'r') as f:\n",
    "        all = f.read()\n",
    "        f.close()\n",
    "    name = fname[:-4]\n",
    "    all_sentences = [line for line in all.split('\\n') if len(line) > 0]\n",
    "    print('{} contains {} sentences'.format(name, len(all_sentences)))\n",
    "    return all_sentences\n",
    "\n",
    "# functions to \n",
    "def small_embeddings(fname):\n",
    "    embeddings = encoder(get_sentenes(fname), batch_size=32)\n",
    "    temp = fname[:-4]+'_dcltr_sm.npy'\n",
    "    np.save(temp, embeddings)\n",
    "\n",
    "\n",
    "def base_embeddings(fname):\n",
    "    embeddings = encoder_base(get_sentenes(fname), batch_size=32)\n",
    "    temp = fname[:-4]+'_dcltr_base.npy'\n",
    "    np.save(temp, embeddings)"
   ]
  },
  {
   "cell_type": "code",
   "execution_count": null,
   "id": "614c5b48",
   "metadata": {},
   "outputs": [
    {
     "name": "stdout",
     "output_type": "stream",
     "text": [
      "a christmas carol_cleaned contains 1942 sentences\n",
      "a christmas carol_cleaned contains 1942 sentences\n",
      "metamorphosis_cleaned contains 795 sentences\n",
      "metamorphosis_cleaned contains 795 sentences\n",
      "heart of darkness_cleaned contains 2430 sentences\n",
      "heart of darkness_cleaned contains 2430 sentences\n",
      "the prophet_cleaned contains 647 sentences\n",
      "the prophet_cleaned contains 647 sentences\n"
     ]
    }
   ],
   "source": [
    "fname = 'a christmas carol_cleaned.txt'\n",
    "small_embeddings(fname)\n",
    "base_embeddings(fname)\n",
    "\n",
    "fname = 'metamorphosis_cleaned.txt'\n",
    "small_embeddings(fname)\n",
    "base_embeddings(fname)\n",
    "\n",
    "fname = 'heart of darkness_cleaned.txt'\n",
    "small_embeddings(fname)\n",
    "base_embeddings(fname)\n",
    "\n",
    "fname = 'the prophet_cleaned.txt'\n",
    "small_embeddings(fname)\n",
    "base_embeddings(fname)"
   ]
  },
  {
   "cell_type": "code",
   "execution_count": null,
   "id": "d23a4dbd",
   "metadata": {},
   "outputs": [],
   "source": []
  }
 ],
 "metadata": {
  "kernelspec": {
   "display_name": "Python 3 (ipykernel)",
   "language": "python",
   "name": "python3"
  }
 },
 "nbformat": 4,
 "nbformat_minor": 5
}
